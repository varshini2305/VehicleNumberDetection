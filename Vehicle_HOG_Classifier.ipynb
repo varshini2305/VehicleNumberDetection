{
  "nbformat": 4,
  "nbformat_minor": 0,
  "metadata": {
    "kernelspec": {
      "display_name": "Python 3",
      "language": "python",
      "name": "python3"
    },
    "language_info": {
      "codemirror_mode": {
        "name": "ipython",
        "version": 3
      },
      "file_extension": ".py",
      "mimetype": "text/x-python",
      "name": "python",
      "nbconvert_exporter": "python",
      "pygments_lexer": "ipython3",
      "version": "3.5.2"
    },
    "colab": {
      "name": "Vehicle_HOG_Classifier.ipynb",
      "provenance": [],
      "collapsed_sections": [],
      "include_colab_link": true
    }
  },
  "cells": [
    {
      "cell_type": "markdown",
      "metadata": {
        "id": "view-in-github",
        "colab_type": "text"
      },
      "source": [
        "<a href=\"https://colab.research.google.com/github/varshini2305/VehicleNumberDetection/blob/main/Vehicle_HOG_Classifier.ipynb\" target=\"_parent\"><img src=\"https://colab.research.google.com/assets/colab-badge.svg\" alt=\"Open In Colab\"/></a>"
      ]
    },
    {
      "cell_type": "code",
      "metadata": {
        "id": "PZ2wzwjVQUtA"
      },
      "source": [
        "#Hog classifier"
      ],
      "execution_count": null,
      "outputs": []
    },
    {
      "cell_type": "code",
      "metadata": {
        "id": "H6NLHNVqQUtJ",
        "outputId": "f7b1af1f-7ba5-4631-e282-a6e651deeec1"
      },
      "source": [
        "import matplotlib.image as mpimg\n",
        "import matplotlib.pyplot as plt\n",
        "import numpy as np\n",
        "import cv2\n",
        "import glob\n",
        "import time\n",
        "from sklearn.svm import LinearSVC\n",
        "from sklearn.preprocessing import StandardScaler\n",
        "from skimage.feature import hog\n",
        "\n",
        "# NOTE: the next import is only valid for scikit-learn version <= 0.17\n",
        "# for scikit-learn >= 0.18 use:\n",
        "# from sklearn.model_selection import train_test_split\n",
        "from sklearn.cross_validation import train_test_split\n",
        "\n",
        "# Define a function to return HOG features and visualization\n",
        "def get_hog_features(img, orient, pix_per_cell, cell_per_block, \n",
        "                        vis=False, feature_vec=True):\n",
        "    # Call with two outputs if vis==True\n",
        "    if vis == True:\n",
        "        features, hog_image = hog(img, orientations=orient, pixels_per_cell=(pix_per_cell, pix_per_cell),\n",
        "                                  cells_per_block=(cell_per_block, cell_per_block), transform_sqrt=True, \n",
        "                                  visualise=vis, feature_vector=feature_vec)\n",
        "        return features, hog_image\n",
        "    # Otherwise call with one output\n",
        "    else:      \n",
        "        features = hog(img, orientations=orient, pixels_per_cell=(pix_per_cell, pix_per_cell),\n",
        "                       cells_per_block=(cell_per_block, cell_per_block), transform_sqrt=True, \n",
        "                       visualise=vis, feature_vector=feature_vec)\n",
        "        return features\n",
        "\n",
        "# Define a function to extract features from a list of images\n",
        "# Have this function call bin_spatial() and color_hist()\n",
        "def extract_features(imgs, cspace='RGB', orient=8, \n",
        "                        pix_per_cell=8, cell_per_block=4, hog_channel=0):\n",
        "    # Create a list to append feature vectors to\n",
        "    features = []\n",
        "    # Iterate through the list of images\n",
        "    for file in imgs:\n",
        "        # Read in each one by one\n",
        "        image = mpimg.imread(file)\n",
        "        # apply color conversion if other than 'RGB'\n",
        "        if cspace != 'RGB':\n",
        "            if cspace == 'HSV':\n",
        "                feature_image = cv2.cvtColor(image, cv2.COLOR_RGB2HSV)\n",
        "            elif cspace == 'LUV':\n",
        "                feature_image = cv2.cvtColor(image, cv2.COLOR_RGB2LUV)\n",
        "            elif cspace == 'HLS':\n",
        "                feature_image = cv2.cvtColor(image, cv2.COLOR_RGB2HLS)\n",
        "            elif cspace == 'YUV':\n",
        "                feature_image = cv2.cvtColor(image, cv2.COLOR_RGB2YUV)\n",
        "            elif cspace == 'YCrCb':\n",
        "                feature_image = cv2.cvtColor(image, cv2.COLOR_RGB2YCrCb)\n",
        "        else: feature_image = np.copy(image)      \n",
        "\n",
        "        # Call get_hog_features() with vis=False, feature_vec=True\n",
        "        if hog_channel == 'ALL':\n",
        "            hog_features = []\n",
        "            for channel in range(feature_image.shape[2]):\n",
        "                hog_features.append(get_hog_features(feature_image[:,:,channel], \n",
        "                                    orient, pix_per_cell, cell_per_block, \n",
        "                                    vis=False, feature_vec=True))\n",
        "            hog_features = np.ravel(hog_features)        \n",
        "        else:\n",
        "            hog_features = get_hog_features(feature_image[:,:,hog_channel], orient, \n",
        "                        pix_per_cell, cell_per_block, vis=False, feature_vec=True)\n",
        "        # Append the new feature vector to the features list\n",
        "        features.append(hog_features)\n",
        "        \n",
        "    # Return list of feature vectors\n",
        "    return features\n",
        "\n"
      ],
      "execution_count": null,
      "outputs": [
        {
          "output_type": "stream",
          "text": [
            "/home/asgunzi/anaconda3/envs/carnd-term1/lib/python3.5/site-packages/sklearn/cross_validation.py:44: DeprecationWarning: This module was deprecated in version 0.18 in favor of the model_selection module into which all the refactored classes and functions are moved. Also note that the interface of the new CV iterators are different from that of this module. This module will be removed in 0.20.\n",
            "  \"This module will be removed in 0.20.\", DeprecationWarning)\n"
          ],
          "name": "stderr"
        }
      ]
    },
    {
      "cell_type": "code",
      "metadata": {
        "id": "miMZRqCBQUtU",
        "outputId": "f40ade70-09df-4cfe-f753-3d48ed109b6d"
      },
      "source": [
        "# Read in car and non-car images\n",
        "cars = glob.glob('vehicles/**/*.png', recursive=True)\n",
        "notcars = glob.glob('non-vehicles/**/*.png', recursive=True)\n",
        "\n",
        "print('len(cars)', len(cars))\n",
        "print('len(notcars)', len(notcars))\n",
        "    \n",
        "print(cars[0:4])"
      ],
      "execution_count": null,
      "outputs": [
        {
          "output_type": "stream",
          "text": [
            "len(cars) 8792\n",
            "len(notcars) 8968\n",
            "['vehicles/vehicles/GTI_MiddleClose/image0423.png', 'vehicles/vehicles/GTI_MiddleClose/image0444.png', 'vehicles/vehicles/GTI_MiddleClose/image0417.png', 'vehicles/vehicles/GTI_MiddleClose/image0200.png']\n"
          ],
          "name": "stdout"
        }
      ]
    },
    {
      "cell_type": "code",
      "metadata": {
        "id": "xGWMit19QUtd",
        "outputId": "28369ed6-06ec-4d47-8180-3d9507389dda"
      },
      "source": [
        "\n",
        "%matplotlib inline\n",
        "\n",
        "imageName =['image0038.png']\n",
        "\n",
        "feat = extract_features(imageName, cspace='RGB', orient=8,pix_per_cell=8, cell_per_block=4, hog_channel='ALL')\n",
        "\n",
        "\n",
        "image = mpimg.imread(imageName[0])\n",
        "print(image.shape)\n",
        "\n",
        "print('len(feat[0])',len(feat[0]))"
      ],
      "execution_count": null,
      "outputs": [
        {
          "output_type": "stream",
          "text": [
            "(64, 64, 3)\n",
            "len(feat[0]) 9600\n"
          ],
          "name": "stdout"
        }
      ]
    },
    {
      "cell_type": "code",
      "metadata": {
        "id": "mbUOzl13QUtk",
        "outputId": "65d766bd-f22d-43a4-b49c-287728f1df6e"
      },
      "source": [
        "\n",
        "### TODO: Tweak these parameters and see how the results change.\n",
        "colorspace = 'RGB' # Can be RGB, HSV, LUV, HLS, YUV, YCrCb\n",
        "orient = 8\n",
        "pix_per_cell = 8\n",
        "cell_per_block = 1\n",
        "hog_channel = 'ALL' # Can be 0, 1, 2, or \"ALL\"\n",
        "\n",
        "t=time.time()\n",
        "car_features = extract_features(cars, cspace=colorspace, orient=orient, \n",
        "                        pix_per_cell=pix_per_cell, cell_per_block=cell_per_block, \n",
        "                        hog_channel=hog_channel)\n",
        "notcar_features = extract_features(notcars, cspace=colorspace, orient=orient, \n",
        "                        pix_per_cell=pix_per_cell, cell_per_block=cell_per_block, \n",
        "                        hog_channel=hog_channel)\n",
        "t2 = time.time()\n",
        "print(round(t2-t, 2), 'Seconds to extract HOG features...')\n",
        "# Create an array stack of feature vectors\n",
        "X = np.vstack((car_features, notcar_features)).astype(np.float64)     \n",
        "print('X.shape',X.shape)\n",
        "# Fit a per-column scaler\n",
        "X_scaler = StandardScaler().fit(X)\n",
        "# Apply the scaler to X\n",
        "scaled_X = X_scaler.transform(X)\n",
        "\n",
        "# Define the labels vector\n",
        "y = np.hstack((np.ones(len(car_features)), np.zeros(len(notcar_features))))\n",
        "\n",
        "\n",
        "# Split up data into randomized training and test sets\n",
        "rand_state = np.random.randint(0, 100)\n",
        "X_train, X_test, y_train, y_test = train_test_split(\n",
        "    scaled_X, y, test_size=0.2, random_state=rand_state)\n",
        "\n",
        "print('Using:',orient,'orientations',pix_per_cell,\n",
        "    'pixels per cell and', cell_per_block,'cells per block')\n",
        "print('Feature vector length:', len(X_train[0]))\n",
        "# Use a linear SVC \n",
        "svc = LinearSVC()\n",
        "# Check the training time for the SVC\n",
        "t=time.time()\n",
        "svc.fit(X_train, y_train)\n",
        "t2 = time.time()\n",
        "print(round(t2-t, 2), 'Seconds to train SVC...')\n"
      ],
      "execution_count": null,
      "outputs": [
        {
          "output_type": "stream",
          "text": [
            "263.08 Seconds to extract HOG features...\n",
            "X.shape (17760, 1536)\n",
            "Using: 8 orientations 8 pixels per cell and 1 cells per block\n",
            "Feature vector length: 1536\n",
            "6.57 Seconds to train SVC...\n"
          ],
          "name": "stdout"
        }
      ]
    },
    {
      "cell_type": "code",
      "metadata": {
        "id": "fZkZx6hQQUtp",
        "outputId": "ec6a416a-aec0-4223-c8c7-d02d7b919c3b"
      },
      "source": [
        "# Check the score of the SVC\n",
        "print('Test Accuracy of SVC = ', round(svc.score(X_test, y_test), 4))\n",
        "# Check the prediction time for a single sample\n",
        "t=time.time()\n",
        "n_predict = 15\n",
        "print('SVC predicts: ', svc.predict(X_test[0:n_predict]))\n",
        "print('Labels        ', y_test[0:n_predict])\n",
        "t2 = time.time()\n",
        "print(round(t2-t, 5), 'Seconds to predict', n_predict,'labels with SVC')"
      ],
      "execution_count": null,
      "outputs": [
        {
          "output_type": "stream",
          "text": [
            "Test Accuracy of SVC =  0.9383\n",
            "SVC predicts:  [ 1.  0.  0.  1.  1.  0.  1.  0.  1.  1.  0.  0.  1.  1.  0.]\n",
            "Labels         [ 1.  0.  0.  1.  0.  0.  0.  0.  1.  1.  1.  0.  1.  1.  0.]\n",
            "0.00935 Seconds to predict 15 labels with SVC\n"
          ],
          "name": "stdout"
        }
      ]
    },
    {
      "cell_type": "code",
      "metadata": {
        "id": "-wLDV7jtQUtu",
        "outputId": "7ba95f89-a994-4371-bb50-2e77a2dcba19"
      },
      "source": [
        "print('X_train.shape',X_train.shape)\n",
        "\n",
        "print('X_test.shape',X_test.shape)\n"
      ],
      "execution_count": null,
      "outputs": [
        {
          "output_type": "stream",
          "text": [
            "X_train.shape (14208, 1536)\n",
            "X_test.shape (3552, 1536)\n"
          ],
          "name": "stdout"
        }
      ]
    },
    {
      "cell_type": "code",
      "metadata": {
        "id": "nbE6So2MQUtz"
      },
      "source": [
        "import pickle\n",
        "\n",
        "pickle.dump( svc, open( \"saved_svc.p\", \"wb\" ) )\n",
        "pickle.dump( svc, open( \"saved_X_scaler.p\", \"wb\" ) )"
      ],
      "execution_count": null,
      "outputs": []
    },
    {
      "cell_type": "code",
      "metadata": {
        "id": "-yUYubFrQUt2"
      },
      "source": [
        "\n",
        "loaded_svc = pickle.load( open( \"saved_svc.p\", \"rb\" ) )\n",
        "loaded_X_scale = pickle.load( open( \"saved_X_scaler.p\", \"rb\" ) )"
      ],
      "execution_count": null,
      "outputs": []
    },
    {
      "cell_type": "code",
      "metadata": {
        "id": "DL46TQCTQUt6",
        "outputId": "34b36d31-84b5-42a7-ff6b-53e1627349aa"
      },
      "source": [
        "print(loaded_svc)"
      ],
      "execution_count": null,
      "outputs": [
        {
          "output_type": "stream",
          "text": [
            "LinearSVC(C=1.0, class_weight=None, dual=True, fit_intercept=True,\n",
            "     intercept_scaling=1, loss='squared_hinge', max_iter=1000,\n",
            "     multi_class='ovr', penalty='l2', random_state=None, tol=0.0001,\n",
            "     verbose=0)\n"
          ],
          "name": "stdout"
        }
      ]
    },
    {
      "cell_type": "code",
      "metadata": {
        "id": "lO4Qa8CxQUt_",
        "outputId": "cd08b7b3-edd7-4961-8c92-866fac43c357"
      },
      "source": [
        "print('Test Accuracy of original SVC = ', round(svc.score(X_test, y_test), 4))\n",
        "print('Test Accuracy of pickled SVC = ', round(loaded_svc.score(X_test, y_test), 4))\n",
        "\n",
        "print('Origin SVC predicts: ', svc.predict(X_test[0:n_predict]))\n",
        "print('Loaded SVC predicts: ', loaded_svc.predict(X_test[0:n_predict]))"
      ],
      "execution_count": null,
      "outputs": [
        {
          "output_type": "stream",
          "text": [
            "Test Accuracy of original SVC =  0.9372\n",
            "Test Accuracy of pickled SVC =  0.9372\n",
            "Origin SVC predicts:  [ 0.  0.  1.  0.  0.  1.  0.  1.  1.  0.  1.  0.  0.  1.  1.]\n",
            "Loaded SVC predicts:  [ 0.  0.  1.  0.  0.  1.  0.  1.  1.  0.  1.  0.  0.  1.  1.]\n"
          ],
          "name": "stdout"
        }
      ]
    },
    {
      "cell_type": "code",
      "metadata": {
        "id": "FMm8yt70QUuF"
      },
      "source": [
        ""
      ],
      "execution_count": null,
      "outputs": []
    }
  ]
}